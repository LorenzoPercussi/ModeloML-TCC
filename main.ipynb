{
 "cells": [
  {
   "cell_type": "code",
   "execution_count": 37,
   "id": "1d9da6a4-356a-49d7-8331-3d912a749520",
   "metadata": {
    "tags": []
   },
   "outputs": [
    {
     "name": "stderr",
     "output_type": "stream",
     "text": [
      "[nltk_data] Downloading package stopwords to\n",
      "[nltk_data]     C:\\Users\\lolop\\AppData\\Roaming\\nltk_data...\n",
      "[nltk_data]   Package stopwords is already up-to-date!\n",
      "[nltk_data] Downloading package punkt to\n",
      "[nltk_data]     C:\\Users\\lolop\\AppData\\Roaming\\nltk_data...\n",
      "[nltk_data]   Package punkt is already up-to-date!\n",
      "[nltk_data] Downloading package wordnet to\n",
      "[nltk_data]     C:\\Users\\lolop\\AppData\\Roaming\\nltk_data...\n",
      "[nltk_data]   Package wordnet is already up-to-date!\n"
     ]
    },
    {
     "data": {
      "text/plain": [
       "True"
      ]
     },
     "execution_count": 37,
     "metadata": {},
     "output_type": "execute_result"
    }
   ],
   "source": [
    "import pandas as pd\n",
    "import nltk\n",
    "import re\n",
    "from nltk.corpus import stopwords\n",
    "from nltk.stem import PorterStemmer, WordNetLemmatizer\n",
    "from sklearn.feature_extraction.text import TfidfVectorizer, CountVectorizer\n",
    "from sklearn.model_selection import train_test_split\n",
    "from sklearn.ensemble import RandomForestClassifier\n",
    "from sklearn.metrics import accuracy_score, classification_report\n",
    "from imblearn.over_sampling import SMOTE\n",
    "from dateutil.relativedelta import relativedelta\n",
    "from datetime import datetime\n",
    "\n",
    "# Certifique-se de ter os recursos do NLTK baixados\n",
    "nltk.download('stopwords')\n",
    "nltk.download('punkt')\n",
    "nltk.download('wordnet')\n"
   ]
  },
  {
   "cell_type": "code",
   "execution_count": 39,
   "id": "1acd822f-1019-4edb-8b7d-3ccb11eef975",
   "metadata": {
    "tags": []
   },
   "outputs": [],
   "source": [
    "def clean_text(text, stop_words, stemmer=None, lemmatizer=None):\n",
    "    text = text.lower()\n",
    "    text = re.sub(r'[^\\w\\s]', '', text)\n",
    "    words = nltk.word_tokenize(text)\n",
    "    words = [word for word in words if word not in stop_words]\n",
    "    if stemmer:\n",
    "        words = [stemmer.stem(word) for word in words]\n",
    "    elif lemmatizer:\n",
    "        words = [lemmatizer.lemmatize(word) for word in words]\n",
    "    clean_text = ' '.join(words)\n",
    "    return clean_text\n"
   ]
  },
  {
   "cell_type": "code",
   "execution_count": 41,
   "id": "785a1a0b-71d1-4e4d-994c-586187caadb9",
   "metadata": {
    "tags": []
   },
   "outputs": [],
   "source": [
    "def clean_csv(input_file, output_file, column_to_clean, use_stemming=True):\n",
    "    df = pd.read_csv(input_file)\n",
    "    stop_words = set(stopwords.words('portuguese'))\n",
    "    stemmer = PorterStemmer() if use_stemming else None\n",
    "    lemmatizer = WordNetLemmatizer() if not use_stemming else None\n",
    "    df[column_to_clean] = df[column_to_clean].apply(lambda x: clean_text(str(x), stop_words, stemmer, lemmatizer))\n",
    "    df.to_csv(output_file, index=False)\n"
   ]
  },
  {
   "cell_type": "code",
   "execution_count": 43,
   "id": "e4c30fd2-330a-4f22-80c6-257fa4e711b1",
   "metadata": {},
   "outputs": [],
   "source": [
    "def add_fraud_column(input_file, output_file):\n",
    "    df = pd.read_csv(input_file)\n",
    "    # Adiciona uma coluna 'fraude' com base nas estrelas (supondo que 1 e 5 estrelas são suspeitas de fraude)\n",
    "    df['fraude'] = df['estrelas'].apply(lambda x: 1 if x in [1, 5] else 0)\n",
    "    df.to_csv(output_file, index=False)\n"
   ]
  },
  {
   "cell_type": "code",
   "execution_count": 45,
   "id": "75fec675-e35c-4f3b-a409-69c5e211d9ec",
   "metadata": {},
   "outputs": [],
   "source": [
    "def convert_relative_time_to_days(time_str):\n",
    "    match = re.match(r'(\\d+)\\s*(dias|semanas|meses|anos)\\s*atrás', time_str.lower())\n",
    "    \n",
    "    if match:\n",
    "        num = int(match.group(1))\n",
    "        unit = match.group(2)\n",
    "        \n",
    "        current_date = datetime.now()\n",
    "        \n",
    "        if unit == 'dias':\n",
    "            past_date = current_date - relativedelta(days=num)\n",
    "        elif unit == 'semanas':\n",
    "            past_date = current_date - relativedelta(weeks=num)\n",
    "        elif unit == 'meses':\n",
    "            past_date = current_date - relativedelta(months=num)\n",
    "        elif unit == 'anos':\n",
    "            past_date = current_date - relativedelta(years=num)\n",
    "        else:\n",
    "            return 0\n",
    "        \n",
    "        return (current_date - past_date).days\n",
    "    \n",
    "    return 0\n"
   ]
  },
  {
   "cell_type": "code",
   "execution_count": 47,
   "id": "63539734-c78f-4c7b-b1ed-d812a40cf549",
   "metadata": {
    "tags": []
   },
   "outputs": [],
   "source": [
    "def create_new_features(df):\n",
    "    df['tempo'] = df['tempo'].apply(convert_relative_time_to_days)\n",
    "    \n",
    "    df['avaliacoes_classificacoes_ratio'] = df['avaliacoes'] / (df['classificacoes'] + 1)\n",
    "    df['fotos_por_avaliacao'] = df['fotos'] / (df['avaliacoes'] + 1)\n",
    "    df['intervalo_avaliacoes'] = df['tempo'].diff().fillna(0)  # Diferença de dias entre avaliações\n",
    "    df['interacoes_ativas'] = df['p/r'] / (df['avaliacoes'] + 1)\n",
    "    df['lugares_por_avaliacao'] = df['lugares adicionados'] / (df['avaliacoes'] + 1)\n",
    "    df['local_guide_peso'] = df['local guide'] * df['avaliacoes']\n",
    "    \n",
    "    return df\n"
   ]
  },
  {
   "cell_type": "code",
   "execution_count": 49,
   "id": "3f06e2f9-be9a-437f-81a2-c0f1642a1ff5",
   "metadata": {},
   "outputs": [],
   "source": [
    "def tokenize_and_vectorize(input_file, output_file, text_column, use_tfidf=True, max_features=1000):\n",
    "    df = pd.read_csv(input_file)\n",
    "    df = create_new_features(df)\n",
    "    if use_tfidf:\n",
    "        vectorizer = TfidfVectorizer(max_features=max_features)\n",
    "    else:\n",
    "        vectorizer = CountVectorizer(max_features=max_features)\n",
    "    vectors = vectorizer.fit_transform(df[text_column].astype(str))\n",
    "    vectors_df = pd.DataFrame(vectors.toarray(), columns=vectorizer.get_feature_names_out())\n",
    "    df = pd.concat([df, vectors_df], axis=1)\n",
    "    df.to_csv(output_file, index=False)\n"
   ]
  },
  {
   "cell_type": "code",
   "execution_count": 51,
   "id": "0d73dc78-e421-48b6-84ec-ada8ba5fc7dc",
   "metadata": {
    "tags": []
   },
   "outputs": [],
   "source": [
    "def prepare_data_for_model(input_file, text_column, label_column, max_features=1000):\n",
    "    df = pd.read_csv(input_file)\n",
    "    vectorizer = TfidfVectorizer(max_features=max_features)\n",
    "    X_text = vectorizer.fit_transform(df[text_column].astype(str))\n",
    "    X = pd.DataFrame(X_text.toarray())\n",
    "    y = df[label_column]\n",
    "    return X, y\n"
   ]
  },
  {
   "cell_type": "code",
   "execution_count": 62,
   "id": "fcef9cf8-a3aa-4ee0-8cbd-f4b82492ef5b",
   "metadata": {
    "tags": []
   },
   "outputs": [],
   "source": [
    "def balance_data_with_smote(X, y):\n",
    "    smote = SMOTE(random_state=42, k_neighbors=1)  # Ajustando n_neighbors para 1\n",
    "    X_res, y_res = smote.fit_resample(X, y)\n",
    "    return X_res, y_res\n"
   ]
  },
  {
   "cell_type": "code",
   "execution_count": 55,
   "id": "f7c2f74b-a971-4f72-a309-1580e1957439",
   "metadata": {
    "tags": []
   },
   "outputs": [],
   "source": [
    "def train_and_evaluate_model(X, y):\n",
    "    X_train, X_test, y_train, y_test = train_test_split(X, y, test_size=0.2, random_state=42)\n",
    "    model_rf = RandomForestClassifier(n_estimators=100, random_state=42)\n",
    "    model_rf.fit(X_train, y_train)\n",
    "    y_pred = model_rf.predict(X_test)\n",
    "    print(\"Accuracy:\", accuracy_score(y_test, y_pred))\n",
    "    print(classification_report(y_test, y_pred))\n",
    "    return model_rf\n"
   ]
  },
  {
   "cell_type": "code",
   "execution_count": 70,
   "id": "12ebbb30-14fb-4207-b639-51dc6a0362bf",
   "metadata": {
    "tags": []
   },
   "outputs": [
    {
     "name": "stdout",
     "output_type": "stream",
     "text": [
      "Accuracy: 0.7419354838709677\n",
      "              precision    recall  f1-score   support\n",
      "\n",
      "           0       0.77      0.67      0.71        15\n",
      "           1       0.72      0.81      0.76        16\n",
      "\n",
      "    accuracy                           0.74        31\n",
      "   macro avg       0.75      0.74      0.74        31\n",
      "weighted avg       0.74      0.74      0.74        31\n",
      "\n"
     ]
    }
   ],
   "source": [
    "input_file = 'entrada3.csv'  # Substitua pelo caminho do arquivo de entrada\n",
    "output_file_clean = 'saida.csv'  # Substitua pelo caminho do arquivo limpo\n",
    "output_file_fraud = 'token.csv'  # Arquivo com a coluna de fraude e tokenização\n",
    "output_file_token = 'token_completo.csv'  # Arquivo final com todas as features e tokenização\n",
    "\n",
    "# 1. Limpar o texto\n",
    "clean_csv(input_file, output_file_clean, column_to_clean='avaliacao', use_stemming=True)\n",
    "\n",
    "# 2. Adicionar a coluna de fraude\n",
    "add_fraud_column(output_file_clean, output_file_fraud)\n",
    "\n",
    "# 3. Tokenizar e vetorializar (mantendo todas as colunas do arquivo original + tokenização)\n",
    "tokenize_and_vectorize(output_file_fraud, output_file_token, text_column='avaliacao', use_tfidf=True, max_features=1000)\n",
    "\n",
    "# 4. Preparar os dados para o modelo\n",
    "X, y = prepare_data_for_model(output_file_token, text_column='avaliacao', label_column='fraude')\n",
    "\n",
    "# 5. Balancear os dados com SMOTE\n",
    "X_res, y_res = balance_data_with_smote(X, y)\n",
    "\n",
    "# 6. Treinar e avaliar o modelo\n",
    "modelo = train_and_evaluate_model(X_res, y_res)\n"
   ]
  },
  {
   "cell_type": "code",
   "execution_count": null,
   "id": "8342487c-02b1-4886-9e33-eb190927cfa8",
   "metadata": {},
   "outputs": [],
   "source": []
  }
 ],
 "metadata": {
  "kernelspec": {
   "display_name": "Python 3 (ipykernel)",
   "language": "python",
   "name": "python3"
  },
  "language_info": {
   "codemirror_mode": {
    "name": "ipython",
    "version": 3
   },
   "file_extension": ".py",
   "mimetype": "text/x-python",
   "name": "python",
   "nbconvert_exporter": "python",
   "pygments_lexer": "ipython3",
   "version": "3.11.7"
  }
 },
 "nbformat": 4,
 "nbformat_minor": 5
}
