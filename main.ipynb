{
 "cells": [
  {
   "cell_type": "code",
   "execution_count": 169,
   "id": "1d9da6a4-356a-49d7-8331-3d912a749520",
   "metadata": {
    "tags": []
   },
   "outputs": [
    {
     "name": "stderr",
     "output_type": "stream",
     "text": [
      "[nltk_data] Downloading package stopwords to\n",
      "[nltk_data]     C:\\Users\\lolop\\AppData\\Roaming\\nltk_data...\n",
      "[nltk_data]   Package stopwords is already up-to-date!\n",
      "[nltk_data] Downloading package punkt to\n",
      "[nltk_data]     C:\\Users\\lolop\\AppData\\Roaming\\nltk_data...\n",
      "[nltk_data]   Package punkt is already up-to-date!\n",
      "[nltk_data] Downloading package wordnet to\n",
      "[nltk_data]     C:\\Users\\lolop\\AppData\\Roaming\\nltk_data...\n",
      "[nltk_data]   Package wordnet is already up-to-date!\n"
     ]
    },
    {
     "data": {
      "text/plain": [
       "True"
      ]
     },
     "execution_count": 169,
     "metadata": {},
     "output_type": "execute_result"
    }
   ],
   "source": [
    "# Célula 1: Importações e configuração inicial\n",
    "import pandas as pd\n",
    "import nltk\n",
    "import re\n",
    "from nltk.corpus import stopwords\n",
    "from nltk.stem import PorterStemmer, WordNetLemmatizer\n",
    "from sklearn.feature_extraction.text import TfidfVectorizer, CountVectorizer\n",
    "from sklearn.model_selection import train_test_split\n",
    "from sklearn.ensemble import RandomForestClassifier\n",
    "from sklearn.metrics import accuracy_score, classification_report\n",
    "\n",
    "# Certifique-se de ter os recursos do NLTK baixados\n",
    "nltk.download('stopwords')\n",
    "nltk.download('punkt')\n",
    "nltk.download('wordnet')\n"
   ]
  },
  {
   "cell_type": "code",
   "execution_count": 171,
   "id": "1acd822f-1019-4edb-8b7d-3ccb11eef975",
   "metadata": {
    "tags": []
   },
   "outputs": [],
   "source": [
    "# Célula 2: Função de limpeza de texto\n",
    "def clean_text(text, stop_words, stemmer=None, lemmatizer=None):\n",
    "    text = text.lower()\n",
    "    text = re.sub(r'[^\\w\\s]', '', text)\n",
    "    words = nltk.word_tokenize(text)\n",
    "    words = [word for word in words if word not in stop_words]\n",
    "    if stemmer:\n",
    "        words = [stemmer.stem(word) for word in words]\n",
    "    elif lemmatizer:\n",
    "        words = [lemmatizer.lemmatize(word) for word in words]\n",
    "    clean_text = ' '.join(words)\n",
    "    return clean_text\n"
   ]
  },
  {
   "cell_type": "code",
   "execution_count": 173,
   "id": "785a1a0b-71d1-4e4d-994c-586187caadb9",
   "metadata": {
    "tags": []
   },
   "outputs": [],
   "source": [
    "# Célula 3: Função para limpar o CSV\n",
    "def clean_csv(input_file, output_file, column_to_clean, use_stemming=True):\n",
    "    df = pd.read_csv(input_file)\n",
    "    stop_words = set(stopwords.words('portuguese'))\n",
    "    stemmer = PorterStemmer() if use_stemming else None\n",
    "    lemmatizer = WordNetLemmatizer() if not use_stemming else None\n",
    "    df[column_to_clean] = df[column_to_clean].apply(lambda x: clean_text(str(x), stop_words, stemmer, lemmatizer))\n",
    "    df.to_csv(output_file, index=False)\n"
   ]
  },
  {
   "cell_type": "code",
   "execution_count": 175,
   "id": "e4c30fd2-330a-4f22-80c6-257fa4e711b1",
   "metadata": {},
   "outputs": [],
   "source": [
    "# Célula 4: Função para adicionar a coluna de fraude\n",
    "def add_fraud_column(input_file, output_file):\n",
    "    df = pd.read_csv(input_file)\n",
    "    # Adiciona uma coluna 'fraude' com base na avaliação (supondo que avaliação 1 e 5 são fraudes)\n",
    "    df['fraude'] = df['estrelas'].apply(lambda x: 1 if x in [1, 5] else 0)\n",
    "    df.to_csv(output_file, index=False)\n"
   ]
  },
  {
   "cell_type": "code",
   "execution_count": 191,
   "id": "75fec675-e35c-4f3b-a409-69c5e211d9ec",
   "metadata": {},
   "outputs": [],
   "source": [
    "# Célula 5: Função para tokenizar e vetorializar\n",
    "def tokenize_and_vectorize(input_file, output_file, text_column, use_tfidf=True, max_features=1000):\n",
    "    df = pd.read_csv(input_file)\n",
    "    print(\"Colunas disponíveis:\", df.columns)  # Verifique as colunas disponíveis\n",
    "    if use_tfidf:\n",
    "        vectorizer = TfidfVectorizer(max_features=max_features)\n",
    "    else:\n",
    "        vectorizer = CountVectorizer(max_features=max_features)\n",
    "    vectors = vectorizer.fit_transform(df[text_column].astype(str))\n",
    "    vectors_df = pd.DataFrame(vectors.toarray(), columns=vectorizer.get_feature_names_out())\n",
    "    df = pd.concat([df, vectors_df], axis=1)\n",
    "    df.to_csv(output_file, index=False)\n"
   ]
  },
  {
   "cell_type": "code",
   "execution_count": 179,
   "id": "63539734-c78f-4c7b-b1ed-d812a40cf549",
   "metadata": {
    "tags": []
   },
   "outputs": [],
   "source": [
    "# Célula 6: Função para preparar dados para o modelo\n",
    "def prepare_data_for_model(input_file, text_column, label_column, max_features=1000):\n",
    "    df = pd.read_csv(input_file)\n",
    "    print(\"Colunas disponíveis:\", df.columns)  # Verifique as colunas disponíveis\n",
    "    vectorizer = TfidfVectorizer(max_features=max_features)\n",
    "    X_text = vectorizer.fit_transform(df[text_column].astype(str))\n",
    "    X = pd.DataFrame(X_text.toarray())\n",
    "    y = df[label_column]\n",
    "    return X, y\n"
   ]
  },
  {
   "cell_type": "code",
   "execution_count": 181,
   "id": "3f06e2f9-be9a-437f-81a2-c0f1642a1ff5",
   "metadata": {},
   "outputs": [],
   "source": [
    "# Célula 7: Função para treinar e avaliar o modelo\n",
    "def train_and_evaluate_model(X, y):\n",
    "    X_train, X_test, y_train, y_test = train_test_split(X, y, test_size=0.2, random_state=42)\n",
    "    model_rf = RandomForestClassifier(n_estimators=100, random_state=42)\n",
    "    model_rf.fit(X_train, y_train)\n",
    "    y_pred = model_rf.predict(X_test)\n",
    "    print(\"Accuracy:\", accuracy_score(y_test, y_pred))\n",
    "    print(classification_report(y_test, y_pred))\n",
    "    return model_rf\n"
   ]
  },
  {
   "cell_type": "code",
   "execution_count": 193,
   "id": "0d73dc78-e421-48b6-84ec-ada8ba5fc7dc",
   "metadata": {
    "tags": []
   },
   "outputs": [],
   "source": [
    "# Célula 8: Limpar o texto e adicionar a coluna de fraude\n",
    "input_file = 'entrada.csv'  # Substitua pelo caminho do arquivo de entrada\n",
    "output_file_clean = 'saida.csv'  # Substitua pelo caminho do arquivo limpo\n",
    "output_file_fraud = 'token.csv'  # Arquivo com a coluna de fraude e tokenização\n",
    "\n",
    "# Limpar o texto\n",
    "clean_csv(input_file, output_file_clean, column_to_clean='avaliacao', use_stemming=True)\n",
    "\n",
    "# Adicionar a coluna de fraude\n",
    "add_fraud_column(output_file_clean, output_file_fraud)\n"
   ]
  },
  {
   "cell_type": "code",
   "execution_count": 197,
   "id": "fcef9cf8-a3aa-4ee0-8cbd-f4b82492ef5b",
   "metadata": {
    "tags": []
   },
   "outputs": [
    {
     "name": "stdout",
     "output_type": "stream",
     "text": [
      "Colunas disponíveis: Index(['tempo', 'estrelas', 'avaliacao', 'fraude'], dtype='object')\n"
     ]
    }
   ],
   "source": [
    "# Célula 9: Tokenizar e vetorializar (mantendo todas as colunas do arquivo original + tokenização)\n",
    "tokenize_and_vectorize(output_file_fraud, 'token_completo.csv', text_column='avaliacao', use_tfidf=True, max_features=1000)\n"
   ]
  },
  {
   "cell_type": "code",
   "execution_count": 199,
   "id": "f7c2f74b-a971-4f72-a309-1580e1957439",
   "metadata": {
    "tags": []
   },
   "outputs": [
    {
     "name": "stdout",
     "output_type": "stream",
     "text": [
      "Colunas disponíveis: Index(['tempo', 'estrelas', 'avaliacao', 'fraude', '10', '200', 'acaba',\n",
      "       'acho', 'acredito', 'adequado',\n",
      "       ...\n",
      "       'valeria', 'vegetariana', 'vegetariano', 'veio', 'vem', 'vergonha',\n",
      "       'versão', 'vieram', 'voltar', 'ótimo'],\n",
      "      dtype='object', length=208)\n"
     ]
    }
   ],
   "source": [
    "# Célula 10: Preparar dados para o modelo\n",
    "X, y = prepare_data_for_model('token_completo.csv', text_column='avaliacao', label_column='fraude')\n"
   ]
  },
  {
   "cell_type": "code",
   "execution_count": 202,
   "id": "9c0e276e-d28c-4139-aebb-db3f435670be",
   "metadata": {
    "tags": []
   },
   "outputs": [
    {
     "name": "stdout",
     "output_type": "stream",
     "text": [
      "Accuracy: 1.0\n",
      "              precision    recall  f1-score   support\n",
      "\n",
      "           1       1.00      1.00      1.00         5\n",
      "\n",
      "    accuracy                           1.00         5\n",
      "   macro avg       1.00      1.00      1.00         5\n",
      "weighted avg       1.00      1.00      1.00         5\n",
      "\n"
     ]
    }
   ],
   "source": [
    "# Célula 11: Treinar e avaliar o modelo\n",
    "modelo = train_and_evaluate_model(X, y)\n"
   ]
  }
 ],
 "metadata": {
  "kernelspec": {
   "display_name": "Python 3 (ipykernel)",
   "language": "python",
   "name": "python3"
  },
  "language_info": {
   "codemirror_mode": {
    "name": "ipython",
    "version": 3
   },
   "file_extension": ".py",
   "mimetype": "text/x-python",
   "name": "python",
   "nbconvert_exporter": "python",
   "pygments_lexer": "ipython3",
   "version": "3.11.7"
  }
 },
 "nbformat": 4,
 "nbformat_minor": 5
}
